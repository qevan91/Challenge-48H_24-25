{
 "cells": [
  {
   "cell_type": "code",
   "execution_count": null,
   "id": "1a71b181-4e45-41b3-90ab-c83d56d04142",
   "metadata": {
    "tags": []
   },
   "outputs": [],
   "source": [
    "import os\n",
    "import pandas as pd\n",
    "import numpy as np\n",
    "from mistralai import Mistral\n",
    "import time\n"
   ]
  },
  {
   "cell_type": "code",
   "execution_count": null,
   "id": "5735e951-a28e-42b1-be51-a2ed7c849acd",
   "metadata": {
    "tags": []
   },
   "outputs": [],
   "source": [
    "data = pd.read_csv(\"sanitized_tweets.csv\", on_bad_lines='skip')"
   ]
  },
  {
   "cell_type": "code",
   "execution_count": null,
   "id": "16c3df68-d93b-4056-8a9f-af9a0272b33d",
   "metadata": {
    "tags": []
   },
   "outputs": [],
   "source": [
    "data"
   ]
  },
  {
   "cell_type": "code",
   "execution_count": null,
   "id": "df41beb0-d3c7-4f70-8855-99c3c298b4bc",
   "metadata": {
    "tags": []
   },
   "outputs": [],
   "source": [
    "api_key = \"avgxRmy1TsKOnsZXh75nuie5jDizDEEr\"\n",
    "model = \"mistral-large-latest\"\n",
    "\n",
    "client = Mistral(api_key=api_key)\n",
    "\n",
    "\n",
    "\n",
    "print(len(data))\n",
    "\n",
    "step = 144\n",
    "\n",
    "df1 = data.iloc[:step, :]\n",
    "df2 = data.iloc[step:step+144, :]\n",
    "step = step + 144\n",
    "df3 = data.iloc[step:step+144, :]\n",
    "step = step + 144\n",
    "df4 = data.iloc[step:step+144, :]\n",
    "step = step + 144\n",
    "\n",
    "data_json = df1.to_json()\n",
    "# print(data_json)\n"
   ]
  },
  {
   "cell_type": "code",
   "execution_count": null,
   "id": "6c6a265f",
   "metadata": {},
   "outputs": [],
   "source": [
    "csv = open(\"sanitized_tweets.csv\", \"r\", encoding=\"utf-8\")\n",
    "csv_lines = csv.readlines()\n",
    "csv_header = csv_lines.pop(0)\n",
    "csv.close()\n",
    "\n",
    "csv_content = \"\"\n",
    "for tweet in csv_lines:\n",
    "    while True:\n",
    "        try:\n",
    "\n",
    "            chat_response = client.agents.complete(\n",
    "                agent_id=\"ag:e59f61ca:20250310:sentiment-de-tweet:797e5583\",\n",
    "                max_tokens=131072,\n",
    "                messages=[{\"role\": \"user\", \"content\": tweet}]\n",
    "            )\n",
    "\n",
    "            csv_content += f\"{chat_response.choices[0].message.content}\\n\"\n",
    "            print(chat_response.choices[0].message.content)\n",
    "            \n",
    "            time.sleep(3)\n",
    "            break  # Sort de la boucle en cas de succès\n",
    "\n",
    "        except Exception as e:\n",
    "            if \"429\" in str(e):  # Vérifie si l'erreur est bien une rate limit\n",
    "                print(\"Rate limit atteinte. Pause...\")\n",
    "                time.sleep(120)  # Attend 2 minutes avant de réessayer\n",
    "            else:\n",
    "                print(\"Autre erreur :\", e)\n",
    "                break  # Si l'erreur est autre chose qu'un 429, arrête l'exécution\n"
   ]
  },
  {
   "cell_type": "code",
   "execution_count": null,
   "id": "a5b50ced",
   "metadata": {},
   "outputs": [],
   "source": [
    "csv_sentiment = open(\"sanitized_tweets_sentiment.csv\", \"w\", encoding=\"utf-8\")\n",
    "csv_sentiment.write(csv_header)\n",
    "csv_sentiment.write(csv_content)\n",
    "csv_sentiment.close()"
   ]
  },
  {
   "cell_type": "code",
   "execution_count": null,
   "id": "40ca2343",
   "metadata": {},
   "outputs": [],
   "source": [
    "print(chat_response.choices[0].message.content)"
   ]
  },
  {
   "cell_type": "code",
   "execution_count": null,
   "id": "e424ad89-bd2b-42f8-bbf9-4322ddfc5d25",
   "metadata": {},
   "outputs": [],
   "source": [
    "# chat_response = client.agents.complete(\n",
    "#     agent_id= \"ag:e59f61ca:20250310:untitled-agent:9c4594c4\",\n",
    "#     max_tokens=131072,\n",
    "#     messages = [\n",
    "        \n",
    "#         {\n",
    "#             \"role\": \"user\",\n",
    "#             \"content\": data_json,\n",
    "#         }\n",
    "#     ]\n",
    "# )\n",
    "\n",
    "# resp_part_1 = chat_response.choices[0].message.content\n",
    "# print(resp_part_1)"
   ]
  },
  {
   "cell_type": "code",
   "execution_count": null,
   "id": "a87ed576",
   "metadata": {},
   "outputs": [],
   "source": [
    "# data_json = df2.to_json()\n",
    "\n",
    "# chat_response = client.agents.complete(\n",
    "#     agent_id= \"ag:e59f61ca:20250310:untitled-agent:9c4594c4\",\n",
    "#     max_tokens=131072,\n",
    "#     messages = [\n",
    "        \n",
    "#         {\n",
    "#             \"role\": \"user\",\n",
    "#             \"content\": data_json,\n",
    "#         }\n",
    "#     ]\n",
    "# )\n",
    "\n",
    "# resp_part_2 = chat_response.choices[0].message.content\n",
    "# print(resp_part_2)"
   ]
  },
  {
   "cell_type": "code",
   "execution_count": null,
   "id": "21b6151f",
   "metadata": {},
   "outputs": [],
   "source": []
  }
 ],
 "metadata": {
  "kernelspec": {
   "display_name": "Python 3",
   "language": "python",
   "name": "python3"
  },
  "language_info": {
   "codemirror_mode": {
    "name": "ipython",
    "version": 3
   },
   "file_extension": ".py",
   "mimetype": "text/x-python",
   "name": "python",
   "nbconvert_exporter": "python",
   "pygments_lexer": "ipython3",
   "version": "3.12.1"
  }
 },
 "nbformat": 4,
 "nbformat_minor": 5
}
